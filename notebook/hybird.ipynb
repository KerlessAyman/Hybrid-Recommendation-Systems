{
 "cells": [
  {
   "cell_type": "markdown",
   "id": "9f5b570a",
   "metadata": {},
   "source": [
    "# Data Ingestion and Preprocessing:"
   ]
  },
  {
   "cell_type": "code",
   "execution_count": 12,
   "id": "2453b7a4",
   "metadata": {},
   "outputs": [],
   "source": [
    "import pandas as pd\n",
    "import numpy as np\n",
    "\n",
    "from sklearn.feature_extraction.text import TfidfVectorizer\n",
    "from sklearn.metrics.pairwise import cosine_similarity\n",
    "from sklearn.metrics import precision_score, recall_score, f1_score\n",
    "\n",
    "from surprise import SVD, Dataset, Reader,accuracy\n",
    "\n",
    "from surprise.model_selection import train_test_split\n",
    "\n",
    "from surprise.accuracy import rmse, mae\n",
    "from collections import defaultdict\n",
    "import streamlit as st\n",
    "\n",
    "import warnings\n",
    "warnings.filterwarnings(\"ignore\")\n"
   ]
  },
  {
   "cell_type": "code",
   "execution_count": 13,
   "id": "6b21cabd",
   "metadata": {},
   "outputs": [],
   "source": [
    "movies=pd.read_csv('../data/movies.csv')\n",
    "ratings=pd.read_csv('../data/ratings.csv')"
   ]
  },
  {
   "cell_type": "code",
   "execution_count": 14,
   "id": "7e576a7c",
   "metadata": {},
   "outputs": [
    {
     "data": {
      "text/html": [
       "<div>\n",
       "<style scoped>\n",
       "    .dataframe tbody tr th:only-of-type {\n",
       "        vertical-align: middle;\n",
       "    }\n",
       "\n",
       "    .dataframe tbody tr th {\n",
       "        vertical-align: top;\n",
       "    }\n",
       "\n",
       "    .dataframe thead th {\n",
       "        text-align: right;\n",
       "    }\n",
       "</style>\n",
       "<table border=\"1\" class=\"dataframe\">\n",
       "  <thead>\n",
       "    <tr style=\"text-align: right;\">\n",
       "      <th></th>\n",
       "      <th>movieId</th>\n",
       "      <th>title</th>\n",
       "      <th>genres</th>\n",
       "    </tr>\n",
       "  </thead>\n",
       "  <tbody>\n",
       "    <tr>\n",
       "      <th>0</th>\n",
       "      <td>1</td>\n",
       "      <td>Toy Story (1995)</td>\n",
       "      <td>Adventure|Animation|Children|Comedy|Fantasy</td>\n",
       "    </tr>\n",
       "    <tr>\n",
       "      <th>1</th>\n",
       "      <td>2</td>\n",
       "      <td>Jumanji (1995)</td>\n",
       "      <td>Adventure|Children|Fantasy</td>\n",
       "    </tr>\n",
       "    <tr>\n",
       "      <th>2</th>\n",
       "      <td>3</td>\n",
       "      <td>Grumpier Old Men (1995)</td>\n",
       "      <td>Comedy|Romance</td>\n",
       "    </tr>\n",
       "    <tr>\n",
       "      <th>3</th>\n",
       "      <td>4</td>\n",
       "      <td>Waiting to Exhale (1995)</td>\n",
       "      <td>Comedy|Drama|Romance</td>\n",
       "    </tr>\n",
       "    <tr>\n",
       "      <th>4</th>\n",
       "      <td>5</td>\n",
       "      <td>Father of the Bride Part II (1995)</td>\n",
       "      <td>Comedy</td>\n",
       "    </tr>\n",
       "  </tbody>\n",
       "</table>\n",
       "</div>"
      ],
      "text/plain": [
       "   movieId                               title  \\\n",
       "0        1                    Toy Story (1995)   \n",
       "1        2                      Jumanji (1995)   \n",
       "2        3             Grumpier Old Men (1995)   \n",
       "3        4            Waiting to Exhale (1995)   \n",
       "4        5  Father of the Bride Part II (1995)   \n",
       "\n",
       "                                        genres  \n",
       "0  Adventure|Animation|Children|Comedy|Fantasy  \n",
       "1                   Adventure|Children|Fantasy  \n",
       "2                               Comedy|Romance  \n",
       "3                         Comedy|Drama|Romance  \n",
       "4                                       Comedy  "
      ]
     },
     "execution_count": 14,
     "metadata": {},
     "output_type": "execute_result"
    }
   ],
   "source": [
    "movies.head(5)"
   ]
  },
  {
   "cell_type": "code",
   "execution_count": 15,
   "id": "c68c6b6e",
   "metadata": {},
   "outputs": [
    {
     "data": {
      "text/html": [
       "<div>\n",
       "<style scoped>\n",
       "    .dataframe tbody tr th:only-of-type {\n",
       "        vertical-align: middle;\n",
       "    }\n",
       "\n",
       "    .dataframe tbody tr th {\n",
       "        vertical-align: top;\n",
       "    }\n",
       "\n",
       "    .dataframe thead th {\n",
       "        text-align: right;\n",
       "    }\n",
       "</style>\n",
       "<table border=\"1\" class=\"dataframe\">\n",
       "  <thead>\n",
       "    <tr style=\"text-align: right;\">\n",
       "      <th></th>\n",
       "      <th>userId</th>\n",
       "      <th>movieId</th>\n",
       "      <th>rating</th>\n",
       "      <th>timestamp</th>\n",
       "    </tr>\n",
       "  </thead>\n",
       "  <tbody>\n",
       "    <tr>\n",
       "      <th>0</th>\n",
       "      <td>1</td>\n",
       "      <td>1</td>\n",
       "      <td>4.0</td>\n",
       "      <td>964982703</td>\n",
       "    </tr>\n",
       "    <tr>\n",
       "      <th>1</th>\n",
       "      <td>1</td>\n",
       "      <td>3</td>\n",
       "      <td>4.0</td>\n",
       "      <td>964981247</td>\n",
       "    </tr>\n",
       "    <tr>\n",
       "      <th>2</th>\n",
       "      <td>1</td>\n",
       "      <td>6</td>\n",
       "      <td>4.0</td>\n",
       "      <td>964982224</td>\n",
       "    </tr>\n",
       "    <tr>\n",
       "      <th>3</th>\n",
       "      <td>1</td>\n",
       "      <td>47</td>\n",
       "      <td>5.0</td>\n",
       "      <td>964983815</td>\n",
       "    </tr>\n",
       "    <tr>\n",
       "      <th>4</th>\n",
       "      <td>1</td>\n",
       "      <td>50</td>\n",
       "      <td>5.0</td>\n",
       "      <td>964982931</td>\n",
       "    </tr>\n",
       "  </tbody>\n",
       "</table>\n",
       "</div>"
      ],
      "text/plain": [
       "   userId  movieId  rating  timestamp\n",
       "0       1        1     4.0  964982703\n",
       "1       1        3     4.0  964981247\n",
       "2       1        6     4.0  964982224\n",
       "3       1       47     5.0  964983815\n",
       "4       1       50     5.0  964982931"
      ]
     },
     "execution_count": 15,
     "metadata": {},
     "output_type": "execute_result"
    }
   ],
   "source": [
    "ratings.head(5)"
   ]
  },
  {
   "cell_type": "code",
   "execution_count": 16,
   "id": "681acc69",
   "metadata": {},
   "outputs": [
    {
     "data": {
      "text/plain": [
       "userId       0\n",
       "movieId      0\n",
       "rating       0\n",
       "timestamp    0\n",
       "dtype: int64"
      ]
     },
     "execution_count": 16,
     "metadata": {},
     "output_type": "execute_result"
    }
   ],
   "source": [
    "ratings.isnull().sum()"
   ]
  },
  {
   "cell_type": "code",
   "execution_count": 17,
   "id": "8b41dd66",
   "metadata": {},
   "outputs": [
    {
     "data": {
      "text/plain": [
       "movieId    0\n",
       "title      0\n",
       "genres     0\n",
       "dtype: int64"
      ]
     },
     "execution_count": 17,
     "metadata": {},
     "output_type": "execute_result"
    }
   ],
   "source": [
    "movies.isnull().sum()"
   ]
  },
  {
   "cell_type": "code",
   "execution_count": 18,
   "id": "98a212a3",
   "metadata": {},
   "outputs": [],
   "source": [
    "# Replace missing genre values with an empty string\n",
    "movies['genres'] =movies['genres'].fillna('')"
   ]
  },
  {
   "cell_type": "code",
   "execution_count": 19,
   "id": "1097e181",
   "metadata": {},
   "outputs": [
    {
     "name": "stdout",
     "output_type": "stream",
     "text": [
      "Empty DataFrame\n",
      "Columns: [userId, movieId, rating, timestamp]\n",
      "Index: []\n"
     ]
    }
   ],
   "source": [
    "#check if there outliears 'ratings' > 5\n",
    "out_of_bounds = ratings[(ratings['rating'] > 5)]\n",
    "\n",
    "print(out_of_bounds)\n"
   ]
  },
  {
   "cell_type": "markdown",
   "id": "4053e66c",
   "metadata": {},
   "source": [
    "# Content-Based Filtering Module:"
   ]
  },
  {
   "cell_type": "code",
   "execution_count": 20,
   "id": "1e376425",
   "metadata": {},
   "outputs": [
    {
     "name": "stdout",
     "output_type": "stream",
     "text": [
      "1706                                          Antz (1998)\n",
      "2355                                   Toy Story 2 (1999)\n",
      "2809       Adventures of Rocky and Bullwinkle, The (2000)\n",
      "3000                     Emperor's New Groove, The (2000)\n",
      "3568                                Monsters, Inc. (2001)\n",
      "6194                                     Wild, The (2006)\n",
      "6486                               Shrek the Third (2007)\n",
      "6948                       Tale of Despereaux, The (2008)\n",
      "7760    Asterix and the Vikings (Astérix et les Viking...\n",
      "8219                                         Turbo (2013)\n",
      "Name: title, dtype: object\n"
     ]
    }
   ],
   "source": [
    "\n",
    "# Initialize TF-IDF Vectorizer to ignore common English stop words\n",
    "tfidf = TfidfVectorizer(stop_words='english')\n",
    "\n",
    "# Transform the 'genres' column from the movies DataFrame into TF-IDF feature vectors\n",
    "tfidf_matrix = tfidf.fit_transform(movies['genres'])\n",
    "\n",
    "# Compute the cosine similarity matrix between all movie genre vectors\n",
    "cosine_sim = cosine_similarity(tfidf_matrix, tfidf_matrix)\n",
    "\n",
    "# Create a reverse lookup Series to get movie indices based on movie titles\n",
    "indices = pd.Series(movies.index, index=movies['title']).drop_duplicates()\n",
    "\n",
    "# Recommendation function based on content similarity\n",
    "def get_recommendations(title, movies, cosine_sim, indices, top_n=10):\n",
    "    # Check if the movie title exists in the dataset\n",
    "    if title not in indices:\n",
    "        return pd.Series([], name='title')\n",
    "    \n",
    "    # Get the index of the movie that matches the title\n",
    "    idx = indices[title]\n",
    "    \n",
    "    # Get a list of similarity scores for this movie with all others\n",
    "    sim_scores = list(enumerate(cosine_sim[idx]))\n",
    "    \n",
    "    # Sort the movies based on similarity scores in descending order\n",
    "    sim_scores = sorted(sim_scores, key=lambda x: x[1], reverse=True)\n",
    "    \n",
    "    # Skip the first movie (itself) and take the next top_n movies\n",
    "    sim_scores = sim_scores[1:top_n+1]\n",
    "    \n",
    "    # Extract the indices of the recommended movies\n",
    "    movie_indices = [i[0] for i in sim_scores]\n",
    "    \n",
    "    # Return the titles of the recommended movies\n",
    "    return movies['title'].iloc[movie_indices]\n",
    "\n",
    "# Example usage\n",
    "print(get_recommendations(\"Toy Story (1995)\", movies, cosine_sim, indices, top_n=10))\n"
   ]
  },
  {
   "cell_type": "markdown",
   "id": "8832d133",
   "metadata": {},
   "source": [
    "# Collaborative Filtering Module:"
   ]
  },
  {
   "cell_type": "code",
   "execution_count": 21,
   "id": "f161ff86",
   "metadata": {},
   "outputs": [
    {
     "name": "stdout",
     "output_type": "stream",
     "text": [
      "RMSE: 0.8804\n",
      "MAE:  0.6747\n",
      "Top movie recommendations for user 1:\n",
      "Shawshank Redemption, The (1994): 3.50\n",
      "Good Will Hunting (1997): 3.50\n",
      "Kill Bill: Vol. 1 (2003): 3.50\n",
      "Collateral (2004): 3.50\n",
      "Talladega Nights: The Ballad of Ricky Bobby (2006): 3.50\n",
      "Departed, The (2006): 3.50\n",
      "Dark Knight, The (2008): 3.50\n",
      "Step Brothers (2008): 3.50\n",
      "Inglourious Basterds (2009): 3.50\n",
      "Zombieland (2009): 3.50\n"
     ]
    }
   ],
   "source": [
    "\n",
    "# 1. Prepare the data for Surprise\n",
    "reader = Reader(rating_scale=(0.5, 5.0))\n",
    "data = Dataset.load_from_df(ratings[['userId', 'movieId', 'rating']], reader)\n",
    "\n",
    "# 2. Split data into training and testing sets\n",
    "trainset, testset = train_test_split(data, test_size=0.2, random_state=42)\n",
    "\n",
    "# 3. Initialize and train the SVD model\n",
    "model = SVD()\n",
    "model.fit(trainset)\n",
    "\n",
    "# 4. Predict on the test set\n",
    "predictions = model.test(testset)\n",
    "\n",
    "# 5. Evaluate the model\n",
    "rmse = accuracy.rmse(predictions)\n",
    "mae = accuracy.mae(predictions)\n",
    "\n",
    "# 6. Function to get top-N recommendations for a specific user\n",
    "def get_top_n_recommendations(predictions, user_id, n=10, movies=None):\n",
    "    user_id_str = str(user_id)\n",
    "    # Filter predictions for this user\n",
    "    user_predictions = [pred for pred in predictions if str(pred.uid) == user_id_str]\n",
    "    # Sort predictions by estimated rating in descending order\n",
    "    user_predictions.sort(key=lambda x: x.est, reverse=True)\n",
    "    top_n = user_predictions[:n]\n",
    "\n",
    "    if movies is not None:\n",
    "        # Create a mapping from movieId to title\n",
    "        movie_id_to_title = pd.Series(movies.title.values, index=movies.movieId.astype(str)).to_dict()\n",
    "        # Return list of (title, estimated rating)\n",
    "        return [(movie_id_to_title.get(str(pred.iid), \"Unknown Title\"), pred.est) for pred in top_n]\n",
    "    else:\n",
    "        # Return list of (movieId, estimated rating)\n",
    "        return [(pred.iid, pred.est) for pred in top_n]\n",
    "\n",
    "# 7. Generate predictions for all unrated movies by user 1\n",
    "user_id = 1\n",
    "all_movie_ids = ratings['movieId'].unique()\n",
    "rated_movie_ids = ratings[ratings['userId'] == user_id]['movieId'].values\n",
    "unrated_movie_ids = [movie_id for movie_id in all_movie_ids if movie_id not in rated_movie_ids]\n",
    "\n",
    "# Generate predictions for all unrated movies\n",
    "predictions_for_user = [model.predict(str(user_id), str(movie_id)) for movie_id in unrated_movie_ids]\n",
    "\n",
    "# 8. Get top 10 recommendations\n",
    "top_movies = get_top_n_recommendations(predictions_for_user, user_id=user_id, n=10, movies=movies)\n",
    "\n",
    "# 9. Display the recommendations\n",
    "print(f\"Top movie recommendations for user {user_id}:\")\n",
    "for title, score in top_movies:\n",
    "    print(f\"{title}: {score:.2f}\")\n"
   ]
  },
  {
   "cell_type": "markdown",
   "id": "e17415bc",
   "metadata": {},
   "source": [
    "# Hybrid Recommendation Engine:"
   ]
  },
  {
   "cell_type": "code",
   "execution_count": null,
   "id": "3e1619db",
   "metadata": {},
   "outputs": [],
   "source": [
    "def hybrid_recommendations(userId, title, movies, model, cosine_sim, indices, top_n=10, content_weight=0.5, cf_weight=0.5):\n",
    "    idx = indices[title]\n",
    "    sim_scores = list(enumerate(cosine_sim[idx]))\n",
    "    sim_scores = sorted(sim_scores, key=lambda x: x[1], reverse=True)[1:top_n*5]\n",
    "    \n",
    "    hybrid_scores = []\n",
    "    for movie_idx, sim_score in sim_scores:\n",
    "        movie_id = movies.iloc[movie_idx]['movieId']\n",
    "        try:\n",
    "            cf_pred = model.predict(userId, movie_id).est\n",
    "            final_score = (content_weight * sim_score) + (cf_weight * cf_pred)\n",
    "            hybrid_scores.append((movie_idx, final_score))\n",
    "        except:\n",
    "            continue\n",
    "    \n",
    "    if not hybrid_scores:\n",
    "        return pd.Series([], name='title')\n",
    "    \n",
    "    hybrid_scores = sorted(hybrid_scores, key=lambda x: x[1], reverse=True)[:top_n]\n",
    "    top_indices = [idx for idx, _ in hybrid_scores]\n",
    "    return movies['title'].iloc[top_indices]\n"
   ]
  },
  {
   "cell_type": "markdown",
   "id": "e182b028",
   "metadata": {},
   "source": [
    "# User Interface"
   ]
  },
  {
   "cell_type": "code",
   "execution_count": 23,
   "id": "1a66d6d5",
   "metadata": {},
   "outputs": [
    {
     "name": "stderr",
     "output_type": "stream",
     "text": [
      "2025-05-21 05:03:31.347 \n",
      "  \u001b[33m\u001b[1mWarning:\u001b[0m to view this Streamlit app on a browser, run it with the following\n",
      "  command:\n",
      "\n",
      "    streamlit run C:\\Users\\HP\\AppData\\Roaming\\Python\\Python312\\site-packages\\ipykernel_launcher.py [ARGUMENTS]\n",
      "2025-05-21 05:03:31.350 Session state does not function when running a script without `streamlit run`\n"
     ]
    }
   ],
   "source": [
    "st.title(\"🎬 Hybrid Movie Recommendation System\")\n",
    "\n",
    "user_id = st.number_input(\"Enter User ID\", min_value=1, value=1)\n",
    "movie_title = st.selectbox(\"Choose a movie you like\", movies['title'].sort_values())\n",
    "\n",
    "recommend_type = st.radio(\"Recommendation Type\", ['Content-Based', 'Collaborative', 'Hybrid'])\n",
    "\n",
    "top_n = st.slider(\"Number of recommendations\", 5, 20, 10)\n",
    "\n",
    "if st.button(\"Recommend\"):\n",
    "    if recommend_type == 'Content-Based':\n",
    "        recs = get_recommendations(movie_title, movies, cosine_sim, indices, top_n)\n",
    "    elif recommend_type == 'Collaborative':\n",
    "        recs = get_top_n_recommendations(predictions, user_id, top_n, movies)\n",
    "    else:\n",
    "        recs = hybrid_recommendations(user_id, movie_title, movies, model, cosine_sim, indices, top_n)\n",
    "    \n",
    "    st.write(\"### Recommended Movies:\")\n",
    "    for r in recs:\n",
    "        st.write(f\"🎥 {r}\")"
   ]
  },
  {
   "cell_type": "code",
   "execution_count": 24,
   "id": "040132b2",
   "metadata": {},
   "outputs": [],
   "source": [
    "\n",
    "\n",
    "# Define threshold above which a rating is considered relevant\n",
    "RELEVANCE_THRESHOLD = 4.0\n",
    "\n",
    "def precision_recall_at_k(predictions, k=10, threshold=RELEVANCE_THRESHOLD):\n",
    "    \"\"\"Return precision and recall at k for each user.\"\"\"\n",
    "    # Map the predictions to each user.\n",
    "    user_est_true = defaultdict(list)\n",
    "    for pred in predictions:\n",
    "        user_est_true[pred.uid].append((pred.est, pred.r_ui))  # (predicted, actual)\n",
    "\n",
    "    precisions = {}\n",
    "    recalls = {}\n",
    "\n",
    "    for uid, user_ratings in user_est_true.items():\n",
    "        # Sort user predictions by estimated value\n",
    "        user_ratings.sort(key=lambda x: x[0], reverse=True)\n",
    "        top_k = user_ratings[:k]\n",
    "\n",
    "        # Compute True Positives (relevant and recommended)\n",
    "        tp = sum((true_r >= threshold) for (_, true_r) in top_k)\n",
    "        # Number of recommended items\n",
    "        recommended = len(top_k)\n",
    "        # Number of relevant items\n",
    "        relevant = sum((true_r >= threshold) for (_, true_r) in user_ratings)\n",
    "\n",
    "        precision = tp / recommended if recommended > 0 else 0\n",
    "        recall = tp / relevant if relevant > 0 else 0\n",
    "\n",
    "        precisions[uid] = precision\n",
    "        recalls[uid] = recall\n",
    "\n",
    "    # Return average precision and recall across all users\n",
    "    avg_precision = sum(prec for prec in precisions.values()) / len(precisions)\n",
    "    avg_recall = sum(rec for rec in recalls.values()) / len(recalls)\n",
    "    f1 = (2 * avg_precision * avg_recall) / (avg_precision + avg_recall) if (avg_precision + avg_recall) > 0 else 0\n",
    "\n",
    "    return avg_precision, avg_recall, f1\n"
   ]
  },
  {
   "cell_type": "code",
   "execution_count": 25,
   "id": "3c0035c0",
   "metadata": {},
   "outputs": [
    {
     "name": "stdout",
     "output_type": "stream",
     "text": [
      "Precision@10: 0.6462\n",
      "Recall@10: 0.6607\n",
      "F1-Score@10: 0.6533\n"
     ]
    }
   ],
   "source": [
    "# Use testset predictions (includes true ratings)\n",
    "precision, recall, f1 = precision_recall_at_k(predictions, k=10, threshold=4.0)\n",
    "\n",
    "print(f\"Precision@10: {precision:.4f}\")\n",
    "print(f\"Recall@10: {recall:.4f}\")\n",
    "print(f\"F1-Score@10: {f1:.4f}\")\n"
   ]
  }
 ],
 "metadata": {
  "kernelspec": {
   "display_name": "base",
   "language": "python",
   "name": "python3"
  },
  "language_info": {
   "codemirror_mode": {
    "name": "ipython",
    "version": 3
   },
   "file_extension": ".py",
   "mimetype": "text/x-python",
   "name": "python",
   "nbconvert_exporter": "python",
   "pygments_lexer": "ipython3",
   "version": "3.12.3"
  }
 },
 "nbformat": 4,
 "nbformat_minor": 5
}
